{
 "cells": [
  {
   "cell_type": "markdown",
   "metadata": {
    "id": "Zl1UHn4aRLMg"
   },
   "source": [
    "# Building a Sentiment Classifier Based on the Tweet Sentiment Extraction Dataset\n",
    "\n",
    "**Purpose:** Analyze the dataset, vectorize the text data using bag-of-words and TF-IDF methods, compare the results, build a classifier, and perform error analysis..\n",
    "\n",
    "**Files**\n",
    "\n",
    "`train.csv` - the training set\n",
    "\n",
    "`test.csv` - the test set\n",
    "\n",
    "`sample_submission.csv` - a sample submission file in the correct format\n",
    "\n",
    "\n",
    "**Columns**\n",
    "\n",
    "- textID - unique ID for each piece of text\n",
    "- text - the text of the tweet\n",
    "- sentiment - the general sentiment of the tweet\n",
    "- selected_text - [train only] the text that supports the tweet's sentiment\n",
    "\n",
    "\n",
    "### Loading and Exploring the Dataset"
   ]
  },
  {
   "cell_type": "code",
   "execution_count": 23,
   "metadata": {
    "id": "z9PAZcZgddHT"
   },
   "outputs": [],
   "source": [
    "import pandas as pd\n",
    "import matplotlib.pyplot as plt"
   ]
  },
  {
   "cell_type": "code",
   "execution_count": 24,
   "metadata": {},
   "outputs": [],
   "source": [
    "train_fname = 'tweet_sentiment_train.csv.zip'\n",
    "raw_df = pd.read_csv(train_fname)"
   ]
  },
  {
   "cell_type": "code",
   "execution_count": 25,
   "metadata": {},
   "outputs": [
    {
     "data": {
      "text/html": [
       "<div>\n",
       "<style scoped>\n",
       "    .dataframe tbody tr th:only-of-type {\n",
       "        vertical-align: middle;\n",
       "    }\n",
       "\n",
       "    .dataframe tbody tr th {\n",
       "        vertical-align: top;\n",
       "    }\n",
       "\n",
       "    .dataframe thead th {\n",
       "        text-align: right;\n",
       "    }\n",
       "</style>\n",
       "<table border=\"1\" class=\"dataframe\">\n",
       "  <thead>\n",
       "    <tr style=\"text-align: right;\">\n",
       "      <th></th>\n",
       "      <th>textID</th>\n",
       "      <th>text</th>\n",
       "      <th>selected_text</th>\n",
       "      <th>sentiment</th>\n",
       "    </tr>\n",
       "  </thead>\n",
       "  <tbody>\n",
       "    <tr>\n",
       "      <th>0</th>\n",
       "      <td>cb774db0d1</td>\n",
       "      <td>I`d have responded, if I were going</td>\n",
       "      <td>I`d have responded, if I were going</td>\n",
       "      <td>neutral</td>\n",
       "    </tr>\n",
       "    <tr>\n",
       "      <th>1</th>\n",
       "      <td>549e992a42</td>\n",
       "      <td>Sooo SAD I will miss you here in San Diego!!!</td>\n",
       "      <td>Sooo SAD</td>\n",
       "      <td>negative</td>\n",
       "    </tr>\n",
       "    <tr>\n",
       "      <th>2</th>\n",
       "      <td>088c60f138</td>\n",
       "      <td>my boss is bullying me...</td>\n",
       "      <td>bullying me</td>\n",
       "      <td>negative</td>\n",
       "    </tr>\n",
       "    <tr>\n",
       "      <th>3</th>\n",
       "      <td>9642c003ef</td>\n",
       "      <td>what interview! leave me alone</td>\n",
       "      <td>leave me alone</td>\n",
       "      <td>negative</td>\n",
       "    </tr>\n",
       "    <tr>\n",
       "      <th>4</th>\n",
       "      <td>358bd9e861</td>\n",
       "      <td>Sons of ****, why couldn`t they put them on t...</td>\n",
       "      <td>Sons of ****,</td>\n",
       "      <td>negative</td>\n",
       "    </tr>\n",
       "  </tbody>\n",
       "</table>\n",
       "</div>"
      ],
      "text/plain": [
       "       textID                                               text  \\\n",
       "0  cb774db0d1                I`d have responded, if I were going   \n",
       "1  549e992a42      Sooo SAD I will miss you here in San Diego!!!   \n",
       "2  088c60f138                          my boss is bullying me...   \n",
       "3  9642c003ef                     what interview! leave me alone   \n",
       "4  358bd9e861   Sons of ****, why couldn`t they put them on t...   \n",
       "\n",
       "                         selected_text sentiment  \n",
       "0  I`d have responded, if I were going   neutral  \n",
       "1                             Sooo SAD  negative  \n",
       "2                          bullying me  negative  \n",
       "3                       leave me alone  negative  \n",
       "4                        Sons of ****,  negative  "
      ]
     },
     "execution_count": 25,
     "metadata": {},
     "output_type": "execute_result"
    }
   ],
   "source": [
    "raw_df.head()"
   ]
  },
  {
   "cell_type": "markdown",
   "metadata": {
    "id": "BXox7UCZUU5J"
   },
   "source": [
    "### Exploratory Data Analysis"
   ]
  },
  {
   "cell_type": "code",
   "execution_count": 27,
   "metadata": {
    "id": "aPm_wCjpde0s"
   },
   "outputs": [
    {
     "data": {
      "text/plain": [
       "sentiment\n",
       "neutral     11118\n",
       "positive     8582\n",
       "negative     7781\n",
       "Name: count, dtype: int64"
      ]
     },
     "execution_count": 27,
     "metadata": {},
     "output_type": "execute_result"
    }
   ],
   "source": [
    "raw_df.sentiment.value_counts()"
   ]
  },
  {
   "cell_type": "code",
   "execution_count": 28,
   "metadata": {},
   "outputs": [
    {
     "name": "stdout",
     "output_type": "stream",
     "text": [
      "<class 'pandas.core.frame.DataFrame'>\n",
      "RangeIndex: 27481 entries, 0 to 27480\n",
      "Data columns (total 4 columns):\n",
      " #   Column         Non-Null Count  Dtype \n",
      "---  ------         --------------  ----- \n",
      " 0   textID         27481 non-null  object\n",
      " 1   text           27480 non-null  object\n",
      " 2   selected_text  27480 non-null  object\n",
      " 3   sentiment      27481 non-null  object\n",
      "dtypes: object(4)\n",
      "memory usage: 858.9+ KB\n"
     ]
    }
   ],
   "source": [
    "raw_df.info()"
   ]
  },
  {
   "cell_type": "code",
   "execution_count": 29,
   "metadata": {},
   "outputs": [],
   "source": [
    "raw_df = raw_df.dropna()"
   ]
  },
  {
   "cell_type": "markdown",
   "metadata": {},
   "source": [
    "**Now we have no missing values. The data frame consists of 27 thousand rows and 4 columns. There are three classes with a distribution of approximately 2:1:1 with the predominance of the neutral class**"
   ]
  },
  {
   "cell_type": "code",
   "execution_count": 31,
   "metadata": {},
   "outputs": [
    {
     "data": {
      "text/plain": [
       "(array([1231., 3338., 4002., 3818., 3175., 2952., 2554., 2182., 2584.,\n",
       "        1644.]),\n",
       " array([  3. ,  16.8,  30.6,  44.4,  58.2,  72. ,  85.8,  99.6, 113.4,\n",
       "        127.2, 141. ]),\n",
       " <BarContainer object of 10 artists>)"
      ]
     },
     "execution_count": 31,
     "metadata": {},
     "output_type": "execute_result"
    },
    {
     "data": {
      "image/png": "[encoded data removed]",
      "text/plain": [
       "<Figure size 640x480 with 1 Axes>"
      ]
     },
     "metadata": {},
     "output_type": "display_data"
    }
   ],
   "source": [
    "raw_df['symbol_count'] = raw_df['text'].apply(len)\n",
    "\n",
    "plt.hist(raw_df['symbol_count'], bins=10, edgecolor='black')"
   ]
  },
  {
   "cell_type": "markdown",
   "metadata": {},
   "source": [
    "**The majority of characters in the comments are between 20 and 90, approximately.**"
   ]
  },
  {
   "cell_type": "markdown",
   "metadata": {
    "id": "KfiU4hNDWncB"
   },
   "source": [
    "### Text Data Preprocessing and Vectorization with Bag of Words\n",
    "\n",
    "We should here to obtain vectors using the bag of words method for the `text` column, after performing text preprocessing. \n",
    "\n",
    "The preprocessing includes:\n",
    "\n",
    "- Tokenization (splitting the text into fragments of 1 word)\n",
    "- Removing stopwords for the required language\n",
    "- Stemming words with `SnowballStemmer`\n",
    "- Setting the number of words in the vocabulary for `sklearn.feature_extraction.text.CountVectorizer`\n"
   ]
  },
  {
   "cell_type": "markdown",
   "metadata": {},
   "source": [
    "#### Tokenization (splitting the text into fragments of 1 word)"
   ]
  },
  {
   "cell_type": "code",
   "execution_count": 35,
   "metadata": {},
   "outputs": [],
   "source": [
    "# pip install nltk"
   ]
  },
  {
   "cell_type": "code",
   "execution_count": 36,
   "metadata": {},
   "outputs": [],
   "source": [
    "import nltk\n",
    "from nltk.corpus import stopwords\n",
    "from nltk.tokenize import word_tokenize"
   ]
  },
  {
   "cell_type": "code",
   "execution_count": 37,
   "metadata": {},
   "outputs": [
    {
     "name": "stderr",
     "output_type": "stream",
     "text": [
      "[nltk_data] Downloading package stopwords to\n",
      "[nltk_data]     /Users/studio/nltk_data...\n",
      "[nltk_data]   Package stopwords is already up-to-date!\n"
     ]
    },
    {
     "data": {
      "text/plain": [
       "True"
      ]
     },
     "execution_count": 37,
     "metadata": {},
     "output_type": "execute_result"
    }
   ],
   "source": [
    "nltk.download('stopwords')"
   ]
  },
  {
   "cell_type": "code",
   "execution_count": 38,
   "metadata": {},
   "outputs": [
    {
     "name": "stderr",
     "output_type": "stream",
     "text": [
      "[nltk_data] Downloading package punkt to /Users/studio/nltk_data...\n",
      "[nltk_data]   Package punkt is already up-to-date!\n"
     ]
    },
    {
     "data": {
      "text/plain": [
       "True"
      ]
     },
     "execution_count": 38,
     "metadata": {},
     "output_type": "execute_result"
    }
   ],
   "source": [
    "nltk.download('punkt')"
   ]
  },
  {
   "cell_type": "code",
   "execution_count": 39,
   "metadata": {},
   "outputs": [],
   "source": [
    "english_stopwords = stopwords.words('english')"
   ]
  },
  {
   "cell_type": "code",
   "execution_count": 40,
   "metadata": {},
   "outputs": [
    {
     "data": {
      "text/plain": [
       "['i', 'me', 'my', 'myself', 'we']"
      ]
     },
     "execution_count": 40,
     "metadata": {},
     "output_type": "execute_result"
    }
   ],
   "source": [
    "english_stopwords[:5]"
   ]
  },
  {
   "cell_type": "code",
   "execution_count": 41,
   "metadata": {},
   "outputs": [],
   "source": [
    "def remove_stopwords(tokens):\n",
    "    return [word for word in tokens if word.lower() not in english_stopwords]"
   ]
  },
  {
   "cell_type": "code",
   "execution_count": 42,
   "metadata": {},
   "outputs": [],
   "source": [
    "raw_df['text_tok_stp'] = raw_df['text'].apply(lambda x: remove_stopwords(word_tokenize(x)))"
   ]
  },
  {
   "cell_type": "code",
   "execution_count": 43,
   "metadata": {},
   "outputs": [
    {
     "data": {
      "text/html": [
       "<div>\n",
       "<style scoped>\n",
       "    .dataframe tbody tr th:only-of-type {\n",
       "        vertical-align: middle;\n",
       "    }\n",
       "\n",
       "    .dataframe tbody tr th {\n",
       "        vertical-align: top;\n",
       "    }\n",
       "\n",
       "    .dataframe thead th {\n",
       "        text-align: right;\n",
       "    }\n",
       "</style>\n",
       "<table border=\"1\" class=\"dataframe\">\n",
       "  <thead>\n",
       "    <tr style=\"text-align: right;\">\n",
       "      <th></th>\n",
       "      <th>textID</th>\n",
       "      <th>text</th>\n",
       "      <th>selected_text</th>\n",
       "      <th>sentiment</th>\n",
       "      <th>symbol_count</th>\n",
       "      <th>text_tok_stp</th>\n",
       "    </tr>\n",
       "  </thead>\n",
       "  <tbody>\n",
       "    <tr>\n",
       "      <th>0</th>\n",
       "      <td>cb774db0d1</td>\n",
       "      <td>I`d have responded, if I were going</td>\n",
       "      <td>I`d have responded, if I were going</td>\n",
       "      <td>neutral</td>\n",
       "      <td>36</td>\n",
       "      <td>[`, responded, ,, going]</td>\n",
       "    </tr>\n",
       "    <tr>\n",
       "      <th>1</th>\n",
       "      <td>549e992a42</td>\n",
       "      <td>Sooo SAD I will miss you here in San Diego!!!</td>\n",
       "      <td>Sooo SAD</td>\n",
       "      <td>negative</td>\n",
       "      <td>46</td>\n",
       "      <td>[Sooo, SAD, miss, San, Diego, !, !, !]</td>\n",
       "    </tr>\n",
       "    <tr>\n",
       "      <th>2</th>\n",
       "      <td>088c60f138</td>\n",
       "      <td>my boss is bullying me...</td>\n",
       "      <td>bullying me</td>\n",
       "      <td>negative</td>\n",
       "      <td>25</td>\n",
       "      <td>[boss, bullying, ...]</td>\n",
       "    </tr>\n",
       "    <tr>\n",
       "      <th>3</th>\n",
       "      <td>9642c003ef</td>\n",
       "      <td>what interview! leave me alone</td>\n",
       "      <td>leave me alone</td>\n",
       "      <td>negative</td>\n",
       "      <td>31</td>\n",
       "      <td>[interview, !, leave, alone]</td>\n",
       "    </tr>\n",
       "    <tr>\n",
       "      <th>4</th>\n",
       "      <td>358bd9e861</td>\n",
       "      <td>Sons of ****, why couldn`t they put them on t...</td>\n",
       "      <td>Sons of ****,</td>\n",
       "      <td>negative</td>\n",
       "      <td>75</td>\n",
       "      <td>[Sons, *, *, *, *, ,, `, put, releases, alread...</td>\n",
       "    </tr>\n",
       "    <tr>\n",
       "      <th>...</th>\n",
       "      <td>...</td>\n",
       "      <td>...</td>\n",
       "      <td>...</td>\n",
       "      <td>...</td>\n",
       "      <td>...</td>\n",
       "      <td>...</td>\n",
       "    </tr>\n",
       "    <tr>\n",
       "      <th>27476</th>\n",
       "      <td>4eac33d1c0</td>\n",
       "      <td>wish we could come see u on Denver  husband l...</td>\n",
       "      <td>d lost</td>\n",
       "      <td>negative</td>\n",
       "      <td>77</td>\n",
       "      <td>[wish, could, come, see, u, Denver, husband, l...</td>\n",
       "    </tr>\n",
       "    <tr>\n",
       "      <th>27477</th>\n",
       "      <td>4f4c4fc327</td>\n",
       "      <td>I`ve wondered about rake to.  The client has ...</td>\n",
       "      <td>, don`t force</td>\n",
       "      <td>negative</td>\n",
       "      <td>122</td>\n",
       "      <td>[`, wondered, rake, ., client, made, clear, .N...</td>\n",
       "    </tr>\n",
       "    <tr>\n",
       "      <th>27478</th>\n",
       "      <td>f67aae2310</td>\n",
       "      <td>Yay good for both of you. Enjoy the break - y...</td>\n",
       "      <td>Yay good for both of you.</td>\n",
       "      <td>positive</td>\n",
       "      <td>111</td>\n",
       "      <td>[Yay, good, ., Enjoy, break, -, probably, need...</td>\n",
       "    </tr>\n",
       "    <tr>\n",
       "      <th>27479</th>\n",
       "      <td>ed167662a5</td>\n",
       "      <td>But it was worth it  ****.</td>\n",
       "      <td>But it was worth it  ****.</td>\n",
       "      <td>positive</td>\n",
       "      <td>27</td>\n",
       "      <td>[worth, *, *, *, *, .]</td>\n",
       "    </tr>\n",
       "    <tr>\n",
       "      <th>27480</th>\n",
       "      <td>6f7127d9d7</td>\n",
       "      <td>All this flirting going on - The ATG smiles...</td>\n",
       "      <td>All this flirting going on - The ATG smiles. Y...</td>\n",
       "      <td>neutral</td>\n",
       "      <td>62</td>\n",
       "      <td>[flirting, going, -, ATG, smiles, ., Yay, ., (...</td>\n",
       "    </tr>\n",
       "  </tbody>\n",
       "</table>\n",
       "<p>27480 rows × 6 columns</p>\n",
       "</div>"
      ],
      "text/plain": [
       "           textID                                               text  \\\n",
       "0      cb774db0d1                I`d have responded, if I were going   \n",
       "1      549e992a42      Sooo SAD I will miss you here in San Diego!!!   \n",
       "2      088c60f138                          my boss is bullying me...   \n",
       "3      9642c003ef                     what interview! leave me alone   \n",
       "4      358bd9e861   Sons of ****, why couldn`t they put them on t...   \n",
       "...           ...                                                ...   \n",
       "27476  4eac33d1c0   wish we could come see u on Denver  husband l...   \n",
       "27477  4f4c4fc327   I`ve wondered about rake to.  The client has ...   \n",
       "27478  f67aae2310   Yay good for both of you. Enjoy the break - y...   \n",
       "27479  ed167662a5                         But it was worth it  ****.   \n",
       "27480  6f7127d9d7     All this flirting going on - The ATG smiles...   \n",
       "\n",
       "                                           selected_text sentiment  \\\n",
       "0                    I`d have responded, if I were going   neutral   \n",
       "1                                               Sooo SAD  negative   \n",
       "2                                            bullying me  negative   \n",
       "3                                         leave me alone  negative   \n",
       "4                                          Sons of ****,  negative   \n",
       "...                                                  ...       ...   \n",
       "27476                                             d lost  negative   \n",
       "27477                                      , don`t force  negative   \n",
       "27478                          Yay good for both of you.  positive   \n",
       "27479                         But it was worth it  ****.  positive   \n",
       "27480  All this flirting going on - The ATG smiles. Y...   neutral   \n",
       "\n",
       "       symbol_count                                       text_tok_stp  \n",
       "0                36                           [`, responded, ,, going]  \n",
       "1                46             [Sooo, SAD, miss, San, Diego, !, !, !]  \n",
       "2                25                              [boss, bullying, ...]  \n",
       "3                31                       [interview, !, leave, alone]  \n",
       "4                75  [Sons, *, *, *, *, ,, `, put, releases, alread...  \n",
       "...             ...                                                ...  \n",
       "27476            77  [wish, could, come, see, u, Denver, husband, l...  \n",
       "27477           122  [`, wondered, rake, ., client, made, clear, .N...  \n",
       "27478           111  [Yay, good, ., Enjoy, break, -, probably, need...  \n",
       "27479            27                             [worth, *, *, *, *, .]  \n",
       "27480            62  [flirting, going, -, ATG, smiles, ., Yay, ., (...  \n",
       "\n",
       "[27480 rows x 6 columns]"
      ]
     },
     "execution_count": 43,
     "metadata": {},
     "output_type": "execute_result"
    }
   ],
   "source": [
    "raw_df"
   ]
  },
  {
   "cell_type": "markdown",
   "metadata": {},
   "source": [
    "#### Stemming words with SnowballStemmer"
   ]
  },
  {
   "cell_type": "code",
   "execution_count": 45,
   "metadata": {},
   "outputs": [],
   "source": [
    "from nltk.stem.snowball import SnowballStemmer"
   ]
  },
  {
   "cell_type": "code",
   "execution_count": 46,
   "metadata": {
    "id": "BRUG111tdhB0"
   },
   "outputs": [],
   "source": [
    "stemmer = SnowballStemmer(language='english')"
   ]
  },
  {
   "cell_type": "code",
   "execution_count": 47,
   "metadata": {},
   "outputs": [],
   "source": [
    "def stem_words(tokens):\n",
    "    return [stemmer.stem(word) for word in tokens]"
   ]
  },
  {
   "cell_type": "code",
   "execution_count": 48,
   "metadata": {},
   "outputs": [],
   "source": [
    "raw_df['text_stem'] = raw_df['text_tok_stp'].apply(lambda x: stem_words(x))"
   ]
  },
  {
   "cell_type": "code",
   "execution_count": 49,
   "metadata": {},
   "outputs": [
    {
     "data": {
      "text/plain": [
       "array(['neutral', 'negative', 'positive'], dtype=object)"
      ]
     },
     "execution_count": 49,
     "metadata": {},
     "output_type": "execute_result"
    }
   ],
   "source": [
    "raw_df.sentiment.unique()"
   ]
  },
  {
   "cell_type": "markdown",
   "metadata": {},
   "source": [
    "#### Vectorizer"
   ]
  },
  {
   "cell_type": "code",
   "execution_count": 51,
   "metadata": {},
   "outputs": [],
   "source": [
    "from sklearn.feature_extraction.text import CountVectorizer"
   ]
  },
  {
   "cell_type": "code",
   "execution_count": 52,
   "metadata": {},
   "outputs": [],
   "source": [
    "raw_df['text_stem_joined'] = raw_df['text_stem'].apply(lambda x: ' '.join(x))"
   ]
  },
  {
   "cell_type": "code",
   "execution_count": 53,
   "metadata": {},
   "outputs": [],
   "source": [
    "vectorizer = CountVectorizer()\n",
    "\n",
    "X = vectorizer.fit_transform(raw_df['text_stem_joined'])\n",
    "\n",
    "count_matrix = X.toarray()\n",
    "\n",
    "feature_names = vectorizer.get_feature_names_out()"
   ]
  },
  {
   "cell_type": "markdown",
   "metadata": {
    "id": "v0RHDwO7OBIJ"
   },
   "source": [
    "### Building the Classifier"
   ]
  },
  {
   "cell_type": "code",
   "execution_count": 55,
   "metadata": {
    "id": "NVdpanFFdkyo"
   },
   "outputs": [
    {
     "name": "stdout",
     "output_type": "stream",
     "text": [
      "Logistic Regression Classification Report:\n",
      "              precision    recall  f1-score   support\n",
      "\n",
      "    negative       0.69      0.60      0.64      1572\n",
      "     neutral       0.63      0.72      0.67      2236\n",
      "    positive       0.76      0.72      0.74      1688\n",
      "\n",
      "    accuracy                           0.68      5496\n",
      "   macro avg       0.69      0.68      0.68      5496\n",
      "weighted avg       0.69      0.68      0.68      5496\n",
      "\n",
      "Accuracy: 0.6843\n",
      "\n",
      "Decision Tree Classification Report:\n",
      "              precision    recall  f1-score   support\n",
      "\n",
      "    negative       0.64      0.62      0.63      1572\n",
      "     neutral       0.65      0.66      0.66      2236\n",
      "    positive       0.70      0.71      0.71      1688\n",
      "\n",
      "    accuracy                           0.66      5496\n",
      "   macro avg       0.66      0.66      0.66      5496\n",
      "weighted avg       0.66      0.66      0.66      5496\n",
      "\n",
      "Accuracy: 0.6634\n",
      "\n",
      "Gradient Boosting Classification Report:\n",
      "              precision    recall  f1-score   support\n",
      "\n",
      "    negative       0.79      0.43      0.55      1572\n",
      "     neutral       0.58      0.83      0.68      2236\n",
      "    positive       0.78      0.65      0.71      1688\n",
      "\n",
      "    accuracy                           0.66      5496\n",
      "   macro avg       0.71      0.64      0.65      5496\n",
      "weighted avg       0.70      0.66      0.65      5496\n",
      "\n",
      "Accuracy: 0.6610\n",
      "\n",
      "Best model: Logistic Regression having accuracy of 0.6843\n"
     ]
    }
   ],
   "source": [
    "from sklearn.model_selection import train_test_split\n",
    "from sklearn.linear_model import LogisticRegression\n",
    "from sklearn.tree import DecisionTreeClassifier\n",
    "from sklearn.ensemble import GradientBoostingClassifier\n",
    "from sklearn.preprocessing import LabelEncoder\n",
    "from sklearn.metrics import classification_report, accuracy_score\n",
    "from sklearn.feature_extraction.text import CountVectorizer\n",
    "\n",
    "# 1. Encoding Sentiment Labels\n",
    "label_encoder = LabelEncoder()\n",
    "raw_df['sentiment_encoded'] = label_encoder.fit_transform(raw_df['sentiment'])\n",
    "\n",
    "# 2. Splitting into Training and Test Sets\n",
    "X = raw_df['text_stem_joined'] \n",
    "y = raw_df['sentiment_encoded']\n",
    "\n",
    "X_train, X_test, y_train, y_test = train_test_split(X, y, test_size=0.2, random_state=42)\n",
    "\n",
    "# 3. Text Vectorization with Bag-of-Words (CountVectorizer)\n",
    "vectorizer = CountVectorizer()\n",
    "X_train_bow = vectorizer.fit_transform(X_train)\n",
    "X_test_bow = vectorizer.transform(X_test)\n",
    "\n",
    "# 4. Trying Several Models\n",
    "\n",
    "# Model 1: Logistic Regression\n",
    "logreg = LogisticRegression(max_iter=1000)\n",
    "logreg.fit(X_train_bow, y_train)\n",
    "y_pred_logreg = logreg.predict(X_test_bow)\n",
    "accuracy_logreg = accuracy_score(y_test, y_pred_logreg)\n",
    "\n",
    "# Model 2: Decision Tree\n",
    "tree = DecisionTreeClassifier()\n",
    "tree.fit(X_train_bow, y_train)\n",
    "y_pred_tree = tree.predict(X_test_bow)\n",
    "accuracy_tree = accuracy_score(y_test, y_pred_tree)\n",
    "\n",
    "# Model 3: Gradient Boosting\n",
    "boost = GradientBoostingClassifier()\n",
    "boost.fit(X_train_bow, y_train)\n",
    "y_pred_boost = boost.predict(X_test_bow)\n",
    "accuracy_boost = accuracy_score(y_test, y_pred_boost)\n",
    "\n",
    "# 5. Outputting Reports with Metrics for All Models\n",
    "print(\"Logistic Regression Classification Report:\")\n",
    "print(classification_report(y_test, y_pred_logreg, target_names=label_encoder.classes_))\n",
    "print(f\"Accuracy: {accuracy_logreg:.4f}\\n\")\n",
    "\n",
    "print(\"Decision Tree Classification Report:\")\n",
    "print(classification_report(y_test, y_pred_tree, target_names=label_encoder.classes_))\n",
    "print(f\"Accuracy: {accuracy_tree:.4f}\\n\")\n",
    "\n",
    "print(\"Gradient Boosting Classification Report:\")\n",
    "print(classification_report(y_test, y_pred_boost, target_names=label_encoder.classes_))\n",
    "print(f\"Accuracy: {accuracy_boost:.4f}\\n\")\n",
    "\n",
    "# 6. Model Evaluation\n",
    "best_model = max([(\"Logistic Regression\", accuracy_logreg), \n",
    "                  (\"Decision Tree\", accuracy_tree), \n",
    "                  (\"Gradient Boosting\", accuracy_boost)], key=lambda x: x[1])\n",
    "\n",
    "print(f\"Best model: {best_model[0]} having accuracy of {best_model[1]:.4f}\")\n"
   ]
  },
  {
   "cell_type": "markdown",
   "metadata": {
    "id": "53hZa4bKP5Cx"
   },
   "source": [
    "### Analysis of Word Influence in the Trained Classifier\n",
    "\n",
    "- For the Logistic Regression model, we will determine which words (tokens) have the most influence in determining sentiment.\n"
   ]
  },
  {
   "cell_type": "code",
   "execution_count": 57,
   "metadata": {
    "id": "z0YBHvG4dmKb"
   },
   "outputs": [
    {
     "name": "stdout",
     "output_type": "stream",
     "text": [
      "\n",
      "Топ 10 слів для сентименту 'negative':\n",
      "Top Positive:\n",
      "sad         2.662491\n",
      "suck        2.480719\n",
      "bore        2.405341\n",
      "sorri       2.254786\n",
      "hate        2.242279\n",
      "miss        2.134519\n",
      "fail        2.065498\n",
      "shame       2.030803\n",
      "unfortun    1.970189\n",
      "stupid      1.962236\n",
      "Name: negative, dtype: float64\n",
      "\n",
      "Top Negative:\n",
      "glad      -2.264426\n",
      "awesom    -2.240362\n",
      "love      -2.059358\n",
      "thank     -1.933347\n",
      "cute      -1.860034\n",
      "congrat   -1.817927\n",
      "welcom    -1.701237\n",
      "bless     -1.673356\n",
      "beauti    -1.622388\n",
      "amaz      -1.608951\n",
      "Name: negative, dtype: float64\n",
      "\n",
      "Топ 10 слів для сентименту 'neutral':\n",
      "Top Positive:\n",
      "chan       1.510057\n",
      "nigga      1.302804\n",
      "parvo      1.295474\n",
      "hummmmm    1.158473\n",
      "gent       1.150372\n",
      "satisfi    1.060297\n",
      "idol       1.044750\n",
      "logic      1.039480\n",
      "jst        1.038291\n",
      "67hac      1.036433\n",
      "Name: neutral, dtype: float64\n",
      "\n",
      "Top Negative:\n",
      "piss        -1.459270\n",
      "congratul   -1.453616\n",
      "delici      -1.355856\n",
      "thrill      -1.351993\n",
      "4am         -1.329930\n",
      "proud       -1.309170\n",
      "excel       -1.255930\n",
      "healthi     -1.235227\n",
      "worri       -1.212199\n",
      "blast       -1.205447\n",
      "Name: neutral, dtype: float64\n",
      "\n",
      "Топ 10 слів для сентименту 'positive':\n",
      "Top Positive:\n",
      "awesom       2.648691\n",
      "thank        2.537320\n",
      "cute         2.485926\n",
      "love         2.332819\n",
      "amaz         2.321782\n",
      "congratul    2.167003\n",
      "gorgeous     2.163753\n",
      "nice         2.102779\n",
      "glad         2.089484\n",
      "bless        2.063890\n",
      "Name: positive, dtype: float64\n",
      "\n",
      "Top Negative:\n",
      "shame      -2.727984\n",
      "sad        -2.500323\n",
      "bore       -2.247607\n",
      "sorri      -2.232260\n",
      "suck       -2.106102\n",
      "unfortun   -2.104229\n",
      "hate       -1.996353\n",
      "scare      -1.896257\n",
      "miss       -1.860859\n",
      "jealous    -1.846737\n",
      "Name: positive, dtype: float64\n"
     ]
    },
    {
     "data": {
      "image/png": "[encoded data removed]",
      "text/plain": [
       "<Figure size 1000x500 with 1 Axes>"
      ]
     },
     "metadata": {},
     "output_type": "display_data"
    }
   ],
   "source": [
    "import numpy as np\n",
    "\n",
    "coefficients = logreg.coef_ \n",
    "feature_names = vectorizer.get_feature_names_out()\n",
    "\n",
    "importance_df = pd.DataFrame(coefficients.T, index=feature_names, columns=label_encoder.classes_)\n",
    "\n",
    "for sentiment in label_encoder.classes_:\n",
    "    print(f\"\\nТоп 10 слів для сентименту '{sentiment}':\")\n",
    "    \n",
    "    top_positive = importance_df[sentiment].nlargest(10)\n",
    "    top_negative = importance_df[sentiment].nsmallest(10)\n",
    "    \n",
    "    print(\"Top Positive:\")\n",
    "    print(top_positive)\n",
    "    \n",
    "    print(\"\\nTop Negative:\")\n",
    "    print(top_negative)\n",
    "    \n",
    "top_words_positive = importance_df['positive'].nlargest(10)\n",
    "top_words_negative = importance_df['positive'].nsmallest(10)\n",
    "\n",
    "plt.figure(figsize=(10, 5))\n",
    "\n",
    "plt.barh(top_words_positive.index, top_words_positive.values, color='green', label='Positive')\n",
    "plt.barh(top_words_negative.index, top_words_negative.values, color='red', label='Negative')\n",
    "\n",
    "plt.xlabel('Logistic Regression Coefficients')\n",
    "plt.title(\"Most Influential Words for the 'positive' Class\")\n",
    "plt.legend()\n",
    "plt.show()"
   ]
  },
  {
   "cell_type": "markdown",
   "metadata": {
    "id": "FvJlvr9JRhzq"
   },
   "source": [
    "### Text Vectorization Using TF-IDF. Training the Classifier, Accuracy Analysis, and Word Influence.\n"
   ]
  },
  {
   "cell_type": "code",
   "execution_count": 89,
   "metadata": {
    "id": "huUPpVhMdodx"
   },
   "outputs": [
    {
     "name": "stdout",
     "output_type": "stream",
     "text": [
      "TF-IDF Logistic Regression Classification Report:\n",
      "              precision    recall  f1-score   support\n",
      "\n",
      "    negative       0.71      0.57      0.63      1572\n",
      "     neutral       0.62      0.74      0.68      2236\n",
      "    positive       0.76      0.70      0.73      1688\n",
      "\n",
      "    accuracy                           0.68      5496\n",
      "   macro avg       0.70      0.67      0.68      5496\n",
      "weighted avg       0.69      0.68      0.68      5496\n",
      "\n",
      "Accuracy: 0.6818\n",
      "\n",
      "Bag-of-Words Accuracy: 0.6843\n",
      "TF-IDF Accuracy: 0.6818\n",
      "\n",
      "Top 10 words for the 'negative' sentiment (TF-IDF):\n",
      "Top Positive Influence:\n",
      "sad       5.652523\n",
      "miss      5.413508\n",
      "hate      4.609451\n",
      "suck      4.608539\n",
      "sorri     4.549018\n",
      "bore      4.094784\n",
      "fail      3.702645\n",
      "stupid    3.493853\n",
      "hurt      3.452273\n",
      "poor      3.428780\n",
      "Name: negative, dtype: float64\n",
      "\n",
      "Top Negative Influence:\n",
      "love     -4.951704\n",
      "thank    -4.079850\n",
      "awesom   -3.435801\n",
      "hope     -3.435366\n",
      "great    -2.974338\n",
      "nice     -2.819450\n",
      "glad     -2.699791\n",
      "better   -2.521691\n",
      "cute     -2.301202\n",
      "yay      -2.257965\n",
      "Name: negative, dtype: float64\n",
      "\n",
      "Top 10 words for the 'neutral' sentiment (TF-IDF):\n",
      "Top Positive Influence:\n",
      "certain    1.158502\n",
      "except     1.120244\n",
      "tho        1.030539\n",
      "chan       1.023593\n",
      "sent       0.989922\n",
      "lol        0.976128\n",
      "goin       0.945350\n",
      "guitar     0.913384\n",
      "gent       0.909294\n",
      "logic      0.909216\n",
      "Name: neutral, dtype: float64\n",
      "\n",
      "Top Negative Influence:\n",
      "happi    -2.808207\n",
      "good     -2.566980\n",
      "thank    -2.143575\n",
      "nice     -2.045693\n",
      "worri    -2.032135\n",
      "excit    -2.015784\n",
      "stupid   -1.963053\n",
      "fail     -1.927152\n",
      "great    -1.898781\n",
      "amaz     -1.855936\n",
      "Name: neutral, dtype: float64\n",
      "\n",
      "Top 10 words for the 'positive' sentiment (TF-IDF):\n",
      "Top Positive Influence:\n",
      "love      6.704843\n",
      "thank     6.223424\n",
      "awesom    5.149838\n",
      "great     4.873118\n",
      "nice      4.865143\n",
      "happi     4.667016\n",
      "good      4.504099\n",
      "hope      4.303520\n",
      "amaz      4.093180\n",
      "excit     3.861830\n",
      "Name: positive, dtype: float64\n",
      "\n",
      "Top Negative Influence:\n",
      "sad     -4.181082\n",
      "miss    -4.143794\n",
      "sorri   -3.670689\n",
      "hate    -3.129031\n",
      "bore    -3.035582\n",
      "suck    -3.010468\n",
      "tire    -2.990002\n",
      "poor    -2.430641\n",
      "shame   -2.330779\n",
      "bad     -2.282438\n",
      "Name: positive, dtype: float64\n"
     ]
    },
    {
     "data": {
      "image/png": "[encoded data removed]",
      "text/plain": [
       "<Figure size 1000x500 with 1 Axes>"
      ]
     },
     "metadata": {},
     "output_type": "display_data"
    }
   ],
   "source": [
    "from sklearn.feature_extraction.text import TfidfVectorizer\n",
    "from sklearn.metrics import classification_report, accuracy_score\n",
    "\n",
    "X_train, X_test, y_train, y_test = train_test_split(X, y, test_size=0.2, random_state=42)\n",
    "\n",
    "tfidf_vectorizer = TfidfVectorizer()\n",
    "X_train_tfidf = tfidf_vectorizer.fit_transform(X_train)\n",
    "X_test_tfidf = tfidf_vectorizer.transform(X_test)\n",
    "\n",
    "logreg_tfidf = LogisticRegression(max_iter=1000)\n",
    "logreg_tfidf.fit(X_train_tfidf, y_train)\n",
    "\n",
    "y_pred_tfidf = logreg_tfidf.predict(X_test_tfidf)\n",
    "\n",
    "accuracy_tfidf = accuracy_score(y_test, y_pred_tfidf)\n",
    "\n",
    "print(\"TF-IDF Logistic Regression Classification Report:\")\n",
    "print(classification_report(y_test, y_pred_tfidf, target_names=label_encoder.classes_))\n",
    "print(f\"Accuracy: {accuracy_tfidf:.4f}\\n\")\n",
    "\n",
    "print(f\"Bag-of-Words Accuracy: {accuracy_logreg:.4f}\")\n",
    "print(f\"TF-IDF Accuracy: {accuracy_tfidf:.4f}\")\n",
    "\n",
    "tfidf_coefficients = logreg_tfidf.coef_\n",
    "tfidf_feature_names = tfidf_vectorizer.get_feature_names_out()\n",
    "\n",
    "tfidf_importance_df = pd.DataFrame(tfidf_coefficients.T, index=tfidf_feature_names, columns=label_encoder.classes_)\n",
    "\n",
    "for sentiment in label_encoder.classes_:\n",
    "    print(f\"\\nTop 10 words for the '{sentiment}' sentiment (TF-IDF):\")\n",
    "    top_positive_tfidf = tfidf_importance_df[sentiment].nlargest(10)\n",
    "    top_negative_tfidf = tfidf_importance_df[sentiment].nsmallest(10)\n",
    "\n",
    "    print(\"Top Positive Influence:\")\n",
    "    print(top_positive_tfidf)\n",
    "\n",
    "    print(\"\\nTop Negative Influence:\")\n",
    "    print(top_negative_tfidf)\n",
    "\n",
    "top_words_positive_tfidf = tfidf_importance_df['positive'].nlargest(10)\n",
    "top_words_negative_tfidf = tfidf_importance_df['positive'].nsmallest(10)\n",
    "\n",
    "plt.figure(figsize=(10, 5))\n",
    "plt.barh(top_words_positive_tfidf.index, top_words_positive_tfidf.values, color='green', label='Positive Influence')\n",
    "plt.barh(top_words_negative_tfidf.index, top_words_negative_tfidf.values, color='red', label='Negative Influence')\n",
    "\n",
    "plt.xlabel('Logistic Regression Coefficient (TF-IDF)')\n",
    "plt.title(\"Most Influential Words for the 'positive' Class (TF-IDF)\")\n",
    "plt.legend()\n",
    "plt.show()\n"
   ]
  },
  {
   "cell_type": "markdown",
   "metadata": {
    "id": "3zsp9KftOqyS"
   },
   "source": [
    "### Error Analysis of Classification with TF-IDF Vectorization\n",
    "\n",
    "- As observed from the analysis, the classifier makes the most mistakes on the negative class when using TF-IDF vectorization.\n",
    "\n",
    "### Recommendations to Improve Classification Performance:\n",
    "\n",
    "1. **Experiment with Different Feature Engineering Techniques:**\n",
    "   - It could be beneficial to try n-grams (bigrams or trigrams) instead of using only unigrams for TF-IDF vectorization. This approach might help capture more context and relationships between words, improving the model's ability to classify sentiment accurately.\n",
    "\n",
    "2. **Address Class Imbalance:**\n",
    "   - It is possible to improve performance by addressing potential class imbalance, especially for the negative class. Techniques like oversampling (e.g., SMOTE), undersampling, or adjusting class weights could help the classifier better learn the negative sentiment.\n",
    "\n",
    "3. **Explore More Advanced Classification Models:**\n",
    "   - It could be valuable to experiment with more advanced classification models such as Random Forests, XGBoost, or Support Vector Machines (SVMs). These models may handle non-linearities better and offer better generalization, potentially improving performance, especially for the negative class."
   ]
  },
  {
   "cell_type": "code",
   "execution_count": null,
   "metadata": {},
   "outputs": [],
   "source": []
  }
 ],
 "metadata": {
  "colab": {
   "provenance": []
  },
  "kernelspec": {
   "display_name": "Python 3 (ipykernel)",
   "language": "python",
   "name": "python3"
  },
  "language_info": {
   "codemirror_mode": {
    "name": "ipython",
    "version": 3
   },
   "file_extension": ".py",
   "mimetype": "text/x-python",
   "name": "python",
   "nbconvert_exporter": "python",
   "pygments_lexer": "ipython3",
   "version": "3.11.7"
  }
 },
 "nbformat": 4,
 "nbformat_minor": 4
}
